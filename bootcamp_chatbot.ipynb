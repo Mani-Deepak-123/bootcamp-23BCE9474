{
 "cells": [
  {
   "cell_type": "code",
   "execution_count": 3,
   "id": "c5b5612b",
   "metadata": {},
   "outputs": [
    {
     "name": "stdout",
     "output_type": "stream",
     "text": [
      "Hey,How can i help you today? If u waunt to exit say \"exit\" or\"quit\"or\"bye\".(please type every thing in lower case):hi\n",
      "Hiya back!\n",
      "Hey,How can i help you today? If u waunt to exit say \"exit\" or\"quit\"or\"bye\".(please type every thing in lower case):how are you\n",
      "Sorry,I couldn't understand that\n",
      "Hey,How can i help you today? If u waunt to exit say \"exit\" or\"quit\"or\"bye\".(please type every thing in lower case):how are you?\n",
      "I'm good,and hope the same for you\n",
      "Hey,How can i help you today? If u waunt to exit say \"exit\" or\"quit\"or\"bye\".(please type every thing in lower case):what's the time\n",
      "The time is 2023-12-20 10:51:52.620479\n",
      "Hey,How can i help you today? If u waunt to exit say \"exit\" or\"quit\"or\"bye\".(please type every thing in lower case):I'm feeling bored ....\n",
      "Well then go for a movie.\n",
      "Hey,How can i help you today? If u waunt to exit say \"exit\" or\"quit\"or\"bye\".(please type every thing in lower case):Then suggest me a movie\n",
      "If you ask me for a movie I will definitely suggest you \"jawan\" as it is a full packed entertaining movie.\n",
      "Hey,How can i help you today? If u waunt to exit say \"exit\" or\"quit\"or\"bye\".(please type every thing in lower case):Its too hot today and I'm feeling more thirsty\n",
      "Hiya back!\n",
      "Hey,How can i help you today? If u waunt to exit say \"exit\" or\"quit\"or\"bye\".(please type every thing in lower case):hi\n",
      "Hiya back!\n",
      "Hey,How can i help you today? If u waunt to exit say \"exit\" or\"quit\"or\"bye\".(please type every thing in lower case):I am feeling hungry\n",
      "We should have our food as per time.Go and eat some food.\n",
      "Hey,How can i help you today? If u waunt to exit say \"exit\" or\"quit\"or\"bye\".(please type every thing in lower case):hola\n",
      "Sorry,I couldn't understand that\n",
      "Hey,How can i help you today? If u waunt to exit say \"exit\" or\"quit\"or\"bye\".(please type every thing in lower case):exit\n",
      "Sorry,I couldn't understand that\n",
      "Hey,How can i help you today? If u waunt to exit say \"exit\" or\"quit\"or\"bye\".(please type every thing in lower case):quit\n",
      "Well then have a good day.Bye\n"
     ]
    }
   ],
   "source": [
    "from datetime import datetime\n",
    "a=\"\"\n",
    "while(\"exit\"or \"quit\"or\"bye\" not in a):\n",
    "    a=input(\"Hey,How can i help you today? If u waunt to exit say \\\"exit\\\" or\\\"quit\\\"or\\\"bye\\\".\"+\n",
    "    \"(please type every thing in lower case):\")\n",
    "    if (\"hi\" in a):\n",
    "        print(\"Hiya back!\")\n",
    "    elif(\"how are you?\" in a):\n",
    "        print(\"I'm good,and hope the same for you\")\n",
    "    elif(\"thirsty\" in a):\n",
    "        print(\"Yaa...,it's too hot day.Better drink some water to hydrate yourself\")\n",
    "    elif(\"hungry\" in a):\n",
    "        print(\"We should have our food as per time.Go and eat some food.\")\n",
    "    elif(\"time\" in a):\n",
    "        print(\"The time is\",datetime.now())\n",
    "    elif(\"bored\" in a):\n",
    "        print(\"Well then go for a movie.\")\n",
    "    elif(\"movie\" in a):\n",
    "        print(\"If you ask me for a movie I will definitely suggest you \\\"jawan\\\" as it is a full packed entertaining movie.\")\n",
    "    elif(\"exit \" in a):\n",
    "        print(\"Well then have a good day.Bye\")\n",
    "        break\n",
    "    elif(\"quit\" in a):\n",
    "        print(\"Well then have a good day.Bye\")\n",
    "        break\n",
    "    elif(\"bye\" in a):\n",
    "        print(\"Well then have a good day.Bye\")\n",
    "        break\n",
    "    else:\n",
    "        print(\"Sorry,I couldn't understand that\")"
   ]
  },
  {
   "cell_type": "code",
   "execution_count": null,
   "id": "6ef1d936",
   "metadata": {},
   "outputs": [],
   "source": []
  }
 ],
 "metadata": {
  "kernelspec": {
   "display_name": "Python 3 (ipykernel)",
   "language": "python",
   "name": "python3"
  },
  "language_info": {
   "codemirror_mode": {
    "name": "ipython",
    "version": 3
   },
   "file_extension": ".py",
   "mimetype": "text/x-python",
   "name": "python",
   "nbconvert_exporter": "python",
   "pygments_lexer": "ipython3",
   "version": "3.9.7"
  }
 },
 "nbformat": 4,
 "nbformat_minor": 5
}
